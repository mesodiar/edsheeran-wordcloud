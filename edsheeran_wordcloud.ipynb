{
 "cells": [
  {
   "cell_type": "code",
   "execution_count": null,
   "metadata": {},
   "outputs": [],
   "source": [
    "!pip install wordcloud"
   ]
  },
  {
   "cell_type": "code",
   "execution_count": null,
   "metadata": {
    "collapsed": true
   },
   "outputs": [],
   "source": [
    "from os import path\n",
    "from wordcloud import WordCloud, STOPWORDS\n",
    "import matplotlib.pyplot as plt\n",
    "import random\n",
    "from PIL import Image\n",
    "import numpy as np"
   ]
  },
  {
   "cell_type": "code",
   "execution_count": null,
   "metadata": {
    "collapsed": true
   },
   "outputs": [],
   "source": [
    "text = open('multiply.txt').read()\n",
    "wordcloud = WordCloud().generate(text)"
   ]
  },
  {
   "cell_type": "code",
   "execution_count": null,
   "metadata": {},
   "outputs": [],
   "source": [
    "wordcloud = WordCloud(width=800, height=600, max_font_size= 70, max_words=1000, background_color=\"white\").generate(text)\n",
    "plt.figure(figsize=(20,10))\n",
    "plt.imshow(wordcloud, interpolation=\"bilinear\")\n",
    "plt.tight_layout(pad=0)\n",
    "plt.axis(\"off\");\n",
    "plt.show();\n",
    "plt.savefig('wordcloud_ed.png')"
   ]
  },
  {
   "cell_type": "code",
   "execution_count": null,
   "metadata": {},
   "outputs": [],
   "source": [
    "mask = np.array(Image.open(\"x_cover.png\"))\n",
    "wordcloud = WordCloud(width=800, height=600, max_font_size= 80, mask=mask, max_words=200, background_color=\"white\").generate(text)\n",
    "plt.figure(figsize=(5,5))\n",
    "plt.imshow(wordcloud, interpolation=\"bilinear\")\n",
    "plt.tight_layout(pad=0)\n",
    "plt.axis(\"off\")\n",
    "plt.show();"
   ]
  },
  {
   "cell_type": "markdown",
   "metadata": {},
   "source": [
    "### Apply stopwords"
   ]
  },
  {
   "cell_type": "code",
   "execution_count": null,
   "metadata": {
    "collapsed": true
   },
   "outputs": [],
   "source": [
    "stopwords = set(STOPWORDS)"
   ]
  },
  {
   "cell_type": "code",
   "execution_count": null,
   "metadata": {
    "collapsed": true
   },
   "outputs": [],
   "source": [
    "wordcloud = WordCloud(width=400, height=300, max_font_size= 50, max_words=2000, stopwords=stopwords, background_color=\"white\").generate(text)\n",
    "fig = plt.figure(figsize=(10,10))\n",
    "plt.imshow(wordcloud, interpolation=\"bilinear\")\n",
    "plt.tight_layout(pad=0)\n",
    "plt.axis(\"off\")\n",
    "plt.show();\n",
    "#plt.savefig('wordcloud_square_multiply.png', facecolor=fig.get_facecolor(), edgecolor='none', bbox_inches='tight')"
   ]
  },
  {
   "cell_type": "code",
   "execution_count": null,
   "metadata": {
    "collapsed": true
   },
   "outputs": [],
   "source": [
    "mask = np.array(Image.open(\"x_cover.png\"))\n",
    "wordcloud = WordCloud(width=800, height=600, max_font_size= 80, mask=mask, stopwords=stopwords, max_words=200, background_color=\"white\").generate(text)\n",
    "fig = plt.figure(figsize=(10,10))\n",
    "plt.imshow(wordcloud, interpolation=\"bilinear\")\n",
    "plt.tight_layout(pad=0)\n",
    "plt.axis(\"off\")\n",
    "plt.savefig('wordcloud_x_multiply.png', facecolor=fig.get_facecolor(), edgecolor='none', bbox_inches='tight')"
   ]
  },
  {
   "cell_type": "code",
   "execution_count": null,
   "metadata": {},
   "outputs": [],
   "source": [
    "plt.show();"
   ]
  },
  {
   "cell_type": "code",
   "execution_count": null,
   "metadata": {
    "collapsed": true
   },
   "outputs": [],
   "source": [
    "text = open('divide.txt').read()\n",
    "mask = np.array(Image.open(\"divide_cover.png\"))\n",
    "wordcloud = WordCloud(width=800, height=600, max_font_size=70, mask=mask, max_words=200,stopwords=stopwords, background_color=\"white\").generate(text)\n",
    "fig = plt.figure(figsize=(10,10))\n",
    "plt.imshow(wordcloud, interpolation=\"bilinear\")\n",
    "plt.tight_layout(pad=0)\n",
    "plt.axis(\"off\")\n",
    "plt.savefig('wordcloud_divide.png', facecolor=fig.get_facecolor(), edgecolor='none', bbox_inches='tight')"
   ]
  },
  {
   "cell_type": "code",
   "execution_count": null,
   "metadata": {},
   "outputs": [],
   "source": [
    "plt.show();"
   ]
  },
  {
   "cell_type": "code",
   "execution_count": null,
   "metadata": {},
   "outputs": [],
   "source": [
    "text = open('plus.txt').read()\n",
    "mask = np.array(Image.open(\"plus_cover.png\"))\n",
    "wordcloud = WordCloud(width=800, height=600, max_font_size=70, mask=mask, max_words=200, stopwords=stopwords, background_color=\"white\").generate(text)\n",
    "plt.figure(figsize=(10,10))\n",
    "plt.imshow(wordcloud, interpolation=\"bilinear\")\n",
    "plt.tight_layout(pad=0)\n",
    "plt.axis(\"off\")\n",
    "plt.show();"
   ]
  },
  {
   "cell_type": "markdown",
   "metadata": {},
   "source": [
    "### Other reference"
   ]
  },
  {
   "cell_type": "markdown",
   "metadata": {},
   "source": [
    "* \" You can't increase the resolution of the image in plt.show() since that is determined by your screen, but you can increase the size. This allows it to scale, zoom, etc. without blurring. To do this pass dimensions to WordCloud\"\n",
    "https://stackoverflow.com/a/28795577/7369613"
   ]
  },
  {
   "cell_type": "markdown",
   "metadata": {},
   "source": [
    "* Get background color https://stackoverflow.com/a/4805178/7369613"
   ]
  }
 ],
 "metadata": {
  "kernelspec": {
   "display_name": "Python 3",
   "language": "python",
   "name": "python3"
  },
  "language_info": {
   "codemirror_mode": {
    "name": "ipython",
    "version": 3
   },
   "file_extension": ".py",
   "mimetype": "text/x-python",
   "name": "python",
   "nbconvert_exporter": "python",
   "pygments_lexer": "ipython3",
   "version": "3.6.2"
  }
 },
 "nbformat": 4,
 "nbformat_minor": 2
}
